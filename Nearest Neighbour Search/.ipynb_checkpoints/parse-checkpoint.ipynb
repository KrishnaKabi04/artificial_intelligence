{
 "cells": [
  {
   "cell_type": "code",
   "execution_count": 2,
   "metadata": {},
   "outputs": [],
   "source": [
    "import pandas as pd\n",
    "import numpy as np"
   ]
  },
  {
   "cell_type": "code",
   "execution_count": 1,
   "metadata": {},
   "outputs": [],
   "source": [
    "path= \"../../Project 2/CS205_SP_2022_SMALLtestdata__44.txt\"\n",
    "\n",
    "\n",
    "with open (path) as read_file:\n",
    "    lines= read_file.readlines()\n",
    "\n",
    "target= []\n",
    "features=[]\n",
    "for line in lines:\n",
    "    line = line.lstrip().rstrip()\n",
    "    columns= line.split(\"  \")\n",
    "    target.append(columns[0])\n",
    "    features.append(columns[1:])\n",
    "    \n",
    "    \n"
   ]
  },
  {
   "cell_type": "code",
   "execution_count": 3,
   "metadata": {},
   "outputs": [],
   "source": [
    "df= pd.DataFrame(features, target).reset_index().rename(columns={\"index\": \"target\"})\n",
    "column_names= list(df.columns[1:]) + [df.columns[0]]\n",
    "\n",
    "df= df.reindex(columns=column_names)\n",
    "df= df.astype(\"float\")\n",
    "df[\"target\"]= df[\"target\"].astype(\"int\")"
   ]
  },
  {
   "cell_type": "code",
   "execution_count": null,
   "metadata": {},
   "outputs": [],
   "source": [
    "all_labels = df['target'].values\n",
    "unique_labels = np.unique(all_labels)\n",
    "\n",
    "#change string labels to numbers\n",
    "new_labels = np.zeros(len(all_labels))\n",
    "for i in range(0,len(unique_labels)):\n",
    "    new_labels[all_labels == unique_labels[i]] = i\n",
    "all_labels = new_labels"
   ]
  },
  {
   "cell_type": "code",
   "execution_count": null,
   "metadata": {},
   "outputs": [],
   "source": []
  },
  {
   "cell_type": "code",
   "execution_count": null,
   "metadata": {},
   "outputs": [],
   "source": []
  },
  {
   "cell_type": "code",
   "execution_count": 4,
   "metadata": {},
   "outputs": [
    {
     "data": {
      "text/html": [
       "<div>\n",
       "<style scoped>\n",
       "    .dataframe tbody tr th:only-of-type {\n",
       "        vertical-align: middle;\n",
       "    }\n",
       "\n",
       "    .dataframe tbody tr th {\n",
       "        vertical-align: top;\n",
       "    }\n",
       "\n",
       "    .dataframe thead th {\n",
       "        text-align: right;\n",
       "    }\n",
       "</style>\n",
       "<table border=\"1\" class=\"dataframe\">\n",
       "  <thead>\n",
       "    <tr style=\"text-align: right;\">\n",
       "      <th></th>\n",
       "      <th>0</th>\n",
       "      <th>1</th>\n",
       "      <th>2</th>\n",
       "      <th>3</th>\n",
       "      <th>4</th>\n",
       "      <th>5</th>\n",
       "      <th>6</th>\n",
       "      <th>7</th>\n",
       "      <th>8</th>\n",
       "      <th>9</th>\n",
       "      <th>target</th>\n",
       "    </tr>\n",
       "  </thead>\n",
       "  <tbody>\n",
       "    <tr>\n",
       "      <th>0</th>\n",
       "      <td>-1.529258</td>\n",
       "      <td>0.075141</td>\n",
       "      <td>-1.096999</td>\n",
       "      <td>-1.075669</td>\n",
       "      <td>-1.039619</td>\n",
       "      <td>2.050882</td>\n",
       "      <td>-0.294620</td>\n",
       "      <td>-0.295191</td>\n",
       "      <td>0.606611</td>\n",
       "      <td>-1.253108</td>\n",
       "      <td>2</td>\n",
       "    </tr>\n",
       "    <tr>\n",
       "      <th>1</th>\n",
       "      <td>0.302902</td>\n",
       "      <td>-0.291591</td>\n",
       "      <td>0.625210</td>\n",
       "      <td>-1.058077</td>\n",
       "      <td>-0.040123</td>\n",
       "      <td>-1.165054</td>\n",
       "      <td>0.659586</td>\n",
       "      <td>0.685682</td>\n",
       "      <td>0.613286</td>\n",
       "      <td>-0.016906</td>\n",
       "      <td>2</td>\n",
       "    </tr>\n",
       "    <tr>\n",
       "      <th>2</th>\n",
       "      <td>0.055280</td>\n",
       "      <td>0.440240</td>\n",
       "      <td>0.183131</td>\n",
       "      <td>0.717988</td>\n",
       "      <td>-0.967749</td>\n",
       "      <td>0.330991</td>\n",
       "      <td>0.262650</td>\n",
       "      <td>0.255715</td>\n",
       "      <td>1.682416</td>\n",
       "      <td>-0.164493</td>\n",
       "      <td>1</td>\n",
       "    </tr>\n",
       "  </tbody>\n",
       "</table>\n",
       "</div>"
      ],
      "text/plain": [
       "          0         1         2         3         4         5         6  \\\n",
       "0 -1.529258  0.075141 -1.096999 -1.075669 -1.039619  2.050882 -0.294620   \n",
       "1  0.302902 -0.291591  0.625210 -1.058077 -0.040123 -1.165054  0.659586   \n",
       "2  0.055280  0.440240  0.183131  0.717988 -0.967749  0.330991  0.262650   \n",
       "\n",
       "          7         8         9  target  \n",
       "0 -0.295191  0.606611 -1.253108       2  \n",
       "1  0.685682  0.613286 -0.016906       2  \n",
       "2  0.255715  1.682416 -0.164493       1  "
      ]
     },
     "execution_count": 4,
     "metadata": {},
     "output_type": "execute_result"
    }
   ],
   "source": []
  },
  {
   "cell_type": "code",
   "execution_count": 63,
   "metadata": {},
   "outputs": [],
   "source": []
  },
  {
   "cell_type": "code",
   "execution_count": null,
   "metadata": {},
   "outputs": [],
   "source": []
  },
  {
   "cell_type": "code",
   "execution_count": null,
   "metadata": {},
   "outputs": [],
   "source": []
  },
  {
   "cell_type": "code",
   "execution_count": null,
   "metadata": {},
   "outputs": [],
   "source": []
  },
  {
   "cell_type": "code",
   "execution_count": null,
   "metadata": {},
   "outputs": [],
   "source": []
  },
  {
   "cell_type": "code",
   "execution_count": null,
   "metadata": {},
   "outputs": [],
   "source": []
  },
  {
   "cell_type": "code",
   "execution_count": null,
   "metadata": {},
   "outputs": [],
   "source": []
  },
  {
   "cell_type": "code",
   "execution_count": null,
   "metadata": {},
   "outputs": [],
   "source": []
  },
  {
   "cell_type": "code",
   "execution_count": null,
   "metadata": {},
   "outputs": [],
   "source": []
  }
 ],
 "metadata": {
  "kernelspec": {
   "display_name": "Python 3 (ipykernel)",
   "language": "python",
   "name": "python3"
  },
  "language_info": {
   "codemirror_mode": {
    "name": "ipython",
    "version": 3
   },
   "file_extension": ".py",
   "mimetype": "text/x-python",
   "name": "python",
   "nbconvert_exporter": "python",
   "pygments_lexer": "ipython3",
   "version": "3.9.0"
  },
  "vscode": {
   "interpreter": {
    "hash": "13c50b14f59458d884eaffc48d34c8b9f9bfb6337a92171dc8fa105a01018264"
   }
  }
 },
 "nbformat": 4,
 "nbformat_minor": 2
}
