{
 "cells": [
  {
   "cell_type": "code",
   "execution_count": 272,
   "metadata": {},
   "outputs": [],
   "source": [
    "%load_ext autoreload"
   ]
  },
  {
   "cell_type": "code",
   "execution_count": 1,
   "metadata": {},
   "outputs": [],
   "source": [
    "import pandas as pd\n",
    "import numpy as np\n",
    "from collections import Counter\n",
    "import math"
   ]
  },
  {
   "cell_type": "code",
   "execution_count": 3,
   "metadata": {},
   "outputs": [],
   "source": [
    "with open(\"../../Project 2/CS205_SP_2022_SMALLtestdata__44.txt\", \"r\") as file:\n",
    "    data= file.readlines()\n"
   ]
  },
  {
   "cell_type": "code",
   "execution_count": 16,
   "metadata": {},
   "outputs": [],
   "source": [
    "dt_row=[]\n",
    "for line in data:\n",
    "    row=[]\n",
    "    for col in line.split():\n",
    "        row.append(float(col))\n",
    "    dt_row.append(row)\n",
    "\n",
    "\n",
    "\n"
   ]
  },
  {
   "cell_type": "code",
   "execution_count": 26,
   "metadata": {},
   "outputs": [],
   "source": [
    "df= pd.DataFrame(dt_row, columns=['target', '1', '2', '3', '4', '5', '6', '7', '8', '9', '10'])"
   ]
  },
  {
   "cell_type": "markdown",
   "metadata": {},
   "source": [
    "### Leave out one cross validation"
   ]
  },
  {
   "cell_type": "code",
   "execution_count": 40,
   "metadata": {},
   "outputs": [],
   "source": [
    "cols= list(df.columns)\n",
    "cols1= cols[1:]\n",
    "cols1.append(cols[0])\n",
    "df= df[cols1]\n",
    "\n",
    "#all_vals = df[list(df.columns)[:-1]].values\n",
    "#all_labels = df[list(df.columns)[-1]].values\n",
    "#all_vals.shape, all_labels.shape"
   ]
  },
  {
   "cell_type": "code",
   "execution_count": 354,
   "metadata": {},
   "outputs": [],
   "source": [
    "def compute_dist(test_pt, train_pt):\n",
    "    dist_mat= np.round(math.sqrt(np.sum(np.abs(train_pt-test_pt)**2)), 3)\n",
    "    return dist_mat"
   ]
  },
  {
   "cell_type": "code",
   "execution_count": 351,
   "metadata": {},
   "outputs": [],
   "source": [
    "def knn_classifier(test_data, training_data, training_labels, K=1):\n",
    "    pred_labels = np.zeros(len(test_data))\n",
    "    #print(\"pred_labels: \", pred_labels)\n",
    "\n",
    "    all_dists = np.zeros(len(training_data))\n",
    "        #print(\"all_dists: \", all_dists.shape)\n",
    "    count = 0\n",
    "    for train_pt in training_data: #for every row in train data\n",
    "        all_dists[count] = compute_dist(test_data, train_pt)   #np.linalg.norm(train_pt-test_pt) #compute_dist(test_pt, train_pt)  #\n",
    "        #print(all_dists[count])\n",
    "        count = count+1\n",
    "    \n",
    "    sorted_indices = np.argsort(all_dists)\n",
    "    pred_labels = training_labels[sorted_indices[0]]\n",
    "    #print(len(pred_labels))\n",
    "    return pred_labels"
   ]
  },
  {
   "cell_type": "code",
   "execution_count": 355,
   "metadata": {},
   "outputs": [],
   "source": [
    "# split data based on Leave out one cross validation\n",
    "def loov(features_list):\n",
    "    all_accuracy= []\n",
    "    for i in range(len(df)):\n",
    "        #if i%50==0:\n",
    "        #    print(i)\n",
    "\n",
    "        #train-test split\n",
    "        test_df= df.iloc[[i, ]]\n",
    "        train_df= pd.concat([df.iloc[:i, ], df.iloc[i+1: ,]])\n",
    "        X_train, X_test, y_train, y_test= train_df.iloc[:, features_list] , test_df.iloc[:, features_list], train_df.iloc[:, -1], test_df.iloc[:, -1]\n",
    "        #print(\"X_train: \", X_train.shape, X_test.shape, y_train.shape, y_test.shape)\n",
    "        pred_labels = knn_classifier(X_test.values, X_train.values, y_train.values, 1)\n",
    "        accuracy = sum(y_test.values == pred_labels)\n",
    "        #print(pred_labels, y_test.values, accuracy, len(pred_labels))\n",
    "        all_accuracy.append(accuracy)\n",
    "\n",
    "    return np.array(all_accuracy).mean()\n",
    "    "
   ]
  },
  {
   "cell_type": "code",
   "execution_count": null,
   "metadata": {},
   "outputs": [],
   "source": [
    "#feature selection\n",
    "\n"
   ]
  }
 ],
 "metadata": {
  "kernelspec": {
   "display_name": "Python 3.9.0 ('stream_lit_env')",
   "language": "python",
   "name": "python3"
  },
  "language_info": {
   "codemirror_mode": {
    "name": "ipython",
    "version": 3
   },
   "file_extension": ".py",
   "mimetype": "text/x-python",
   "name": "python",
   "nbconvert_exporter": "python",
   "pygments_lexer": "ipython3",
   "version": "3.9.0"
  },
  "orig_nbformat": 4,
  "vscode": {
   "interpreter": {
    "hash": "12ee754ea42dfd9f99a2bb29190e432a84acb6698fa06d5386d4f247b5efae75"
   }
  }
 },
 "nbformat": 4,
 "nbformat_minor": 2
}
