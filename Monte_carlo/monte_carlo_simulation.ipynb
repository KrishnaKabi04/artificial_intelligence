{
 "cells": [
  {
   "cell_type": "code",
   "execution_count": 26,
   "metadata": {},
   "outputs": [],
   "source": [
    "import random\n",
    "import math\n",
    "import numpy as np\n",
    "from matplotlib import pyplot as plt\n",
    "from numpy import sin, cos, pi, linspace"
   ]
  },
  {
   "cell_type": "code",
   "execution_count": 24,
   "metadata": {},
   "outputs": [],
   "source": [
    "days_lived_list=range(1, 101)\n",
    "\n",
    "host_loc= [0,250]\n",
    "mosquito_radius= 50\n",
    "host_found=0\n",
    "runs_list=[1000]\n",
    "initial_state= [0,0]\n",
    "smell_during_flight= True\n",
    "check_last_day_limit= False\n",
    "plot_intersection = True"
   ]
  },
  {
   "cell_type": "code",
   "execution_count": 6,
   "metadata": {},
   "outputs": [],
   "source": [
    "def plot_points(points):\n",
    "    points= np.array(points)\n",
    "    fig, ax = plt.subplots()\n",
    "    ax.scatter(points[...,0], points[...,1])\n",
    "    ax.axhline(y=0, color='k')\n",
    "    ax.axvline(x=0, color='k')\n",
    "    plt.show()"
   ]
  },
  {
   "cell_type": "code",
   "execution_count": null,
   "metadata": {},
   "outputs": [],
   "source": [
    "dist:  17.60896398814647\n",
    "-233.39510662430038 89.59198738632512 -17995.75584954466\n",
    "\n",
    "\n",
    "[-152.5410795127401, -196.51964624913083] [-242.13306689906523, -429.9147528734312]"
   ]
  },
  {
   "cell_type": "code",
   "execution_count": 46,
   "metadata": {},
   "outputs": [
    {
     "data": {
      "text/plain": [
       "17.155026806549152"
      ]
     },
     "execution_count": 46,
     "metadata": {},
     "output_type": "execute_result"
    }
   ],
   "source": [
    "((89*250)+(-17995))/ math.sqrt((152**2)+(196**2))"
   ]
  },
  {
   "cell_type": "code",
   "execution_count": 51,
   "metadata": {},
   "outputs": [
    {
     "data": {
      "image/png": "[encoded data removed]",
      "text/plain": [
       "<Figure size 432x288 with 1 Axes>"
      ]
     },
     "metadata": {
      "needs_background": "light"
     },
     "output_type": "display_data"
    }
   ],
   "source": [
    "        x= [-152.5410795127401, -196.51964624913083]\n",
    "        y=[-242.13306689906523, -429.91]\n",
    "        plt.plot(0,250, color = 'red', marker = 'o')\n",
    "        plt.gca().annotate('O (0, 250)', xy=(0 + 0.1, 0 + 0.1), xycoords='data', fontsize=10)\n",
    "\n",
    "        #draw a circle\n",
    "        angles = linspace(0 * pi, 2 * pi, 100 )\n",
    "        r=50\n",
    "        xs = r*cos(angles)\n",
    "        ys = 250+r*sin(angles)\n",
    "        plt.plot(xs, ys, color = 'green')\n",
    "        plt.xlim(-300, 400)\n",
    "        plt.ylim(-800, 600)\n",
    "        plt.gca().set_aspect('equal')\n",
    "        plt.plot(x,y)\n",
    "        plt.show()"
   ]
  },
  {
   "cell_type": "code",
   "execution_count": 82,
   "metadata": {},
   "outputs": [],
   "source": [
    "def check_intersection(curr_state, new_state):\n",
    "    #equation of line standar form A, B and C\n",
    "    A= new_state[1] - curr_state[1]\n",
    "    B= - (new_state[0] - curr_state[0])\n",
    "    C= - ( (A*curr_state[0]) + (B*curr_state[1]) )\n",
    "\n",
    "    #find perpendicular distance to host_location\n",
    "    dist= (abs((A*host_loc[0]) + (B*host_loc[1])+ C)) / (math.sqrt(A*A + B*B))\n",
    "\n",
    "    if dist <= mosquito_radius and plot_intersection:\n",
    "        #plot line with host_location circle\n",
    "        plt.plot(0,250, color = 'red', marker = 'o')\n",
    "        plt.gca().annotate('O (0, 250)', xy=(0 + 0.1, 0 + 0.1), xycoords='data', fontsize=10)\n",
    "\n",
    "        #draw a circle\n",
    "        angles = linspace(0 * pi, 2 * pi, 100 )\n",
    "        r=50\n",
    "        xs = r*cos(angles)\n",
    "        ys = 250+r*sin(angles)\n",
    "        plt.plot(xs, ys, color = 'green')\n",
    "        plt.xlim(-100, 200)\n",
    "        plt.ylim(100, 400)\n",
    "        plt.gca().set_aspect('equal')\n",
    "        plt.plot([curr_state[0], new_state[0]],[curr_state[1], new_state[1]])\n",
    "        plt.show()\n",
    "        print(curr_state, new_state, dist)\n",
    "\n",
    "        print(curr_state-50, new_state, dist)\n",
    "\n",
    "    return dist <= mosquito_radius\n",
    "\n",
    "    "
   ]
  },
  {
   "cell_type": "code",
   "execution_count": 78,
   "metadata": {},
   "outputs": [],
   "source": [
    "def find_host(curr_state):\n",
    "    dist= np.linalg.norm(np.array(curr_state) - np.array(host_loc))\n",
    "    return dist<=mosquito_radius\n",
    "\n",
    "def red_region_limit(last_day_state):\n",
    "    dist= np.linalg.norm(np.array(last_day_state) - np.array(initial_state))\n",
    "    return dist>1000\n",
    "\n",
    "def run_simulation(host_found, die_outside, n_runs, days_lived):\n",
    "    for runs in range(n_runs):\n",
    "        curr_state=[0,0]\n",
    "        points= [curr_state]\n",
    "        for day in range(days_lived):\n",
    "            smell= find_host(curr_state) # return True/False\n",
    "            if smell:\n",
    "                host_found+=1\n",
    "                break\n",
    "            \n",
    "            angle= np.random.randint(0, 360)\n",
    "            x = curr_state[0]+ (250 * np.sin(math.radians(angle)))\n",
    "            y = curr_state[1]+ (250 * np.cos(math.radians(angle)))\n",
    "\n",
    "            if smell_during_flight and check_intersection(curr_state, [x,y]):\n",
    "                #find if line intersects or is tangent to the yellow circle of radius 50m centered at (0,250)\n",
    "                #compare perpendicular distance between the center of the circle and the line to the radius of the circle\n",
    "                #p=r : touches the circle , p<r: line intersects the circle\n",
    "                print(\"intersected.. \", day)\n",
    "                host_found+=1\n",
    "                return host_found, die_outside\n",
    "\n",
    "            #check if mosquito is outside 1000m radius in the last_day \n",
    "            if check_last_day_limit and day==days_lived-1:\n",
    "                out= red_region_limit(curr_state)\n",
    "                if out:\n",
    "                    die_outside+=1\n",
    "\n",
    "            #verify if the dist between prev and next location is within 250m\n",
    "            dist= round(np.linalg.norm(np.array([x,y]) - np.array(curr_state)),3)\n",
    "            if dist >250:\n",
    "                print(f\"dist > 250 {dist} for runs {runs}\")\n",
    "                print(\"curr state: \", curr_state , [x,y])\n",
    "                print(\"Exiting...\")\n",
    "                exit()\n",
    "            curr_state= [x,y]\n",
    "            points.append(curr_state)\n",
    "\n",
    "    return host_found, die_outside\n",
    "\n"
   ]
  },
  {
   "cell_type": "code",
   "execution_count": 97,
   "metadata": {},
   "outputs": [
    {
     "data": {
      "image/png": "[encoded data removed]",
      "text/plain": [
       "<Figure size 432x288 with 1 Axes>"
      ]
     },
     "metadata": {
      "needs_background": "light"
     },
     "output_type": "display_data"
    },
    {
     "name": "stdout",
     "output_type": "stream",
     "text": [
      "[116.48145657226698, 151.80158967047936] [-108.21705500252477, 261.3943763677487] 37.198036862969\n",
      "intersected..  2\n"
     ]
    }
   ],
   "source": [
    "\n",
    "host_found_wrt_days1=[]\n",
    "die_outside_list= []\n",
    "\n",
    "for n_runs in runs_list:\n",
    "    for days_lived in [10]:\n",
    "        #print(\"days lived: \", days_lived)\n",
    "        #if days_lived%10==0:\n",
    "        #    print(\"days passed: \", days_lived)\n",
    "        \n",
    "        host_found=0 \n",
    "        die_outside=0\n",
    "        host_found, die_outside= run_simulation(host_found, die_outside, n_runs, days_lived)\n",
    "\n",
    "        #print(\"host_found: \", host_found, host_found/n_runs)\n",
    "        \n",
    "        host_found_wrt_days1.append(host_found/n_runs)\n",
    "        die_outside_list.append(die_outside/n_runs)\n"
   ]
  },
  {
   "cell_type": "code",
   "execution_count": 37,
   "metadata": {},
   "outputs": [
    {
     "data": {
      "text/plain": [
       "100"
      ]
     },
     "execution_count": 37,
     "metadata": {},
     "output_type": "execute_result"
    }
   ],
   "source": [
    "len(host_found_wrt_days)"
   ]
  },
  {
   "cell_type": "code",
   "execution_count": 38,
   "metadata": {},
   "outputs": [
    {
     "data": {
      "text/plain": [
       "[<matplotlib.lines.Line2D at 0x7f8458f7a820>]"
      ]
     },
     "execution_count": 38,
     "metadata": {},
     "output_type": "execute_result"
    },
    {
     "data": {
      "image/png": "[encoded data removed]",
      "text/plain": [
       "<Figure size 432x288 with 1 Axes>"
      ]
     },
     "metadata": {
      "needs_background": "light"
     },
     "output_type": "display_data"
    }
   ],
   "source": [
    "plt.plot(np.array(host_found_wrt_days))"
   ]
  }
 ],
 "metadata": {
  "kernelspec": {
   "display_name": "Python 3.9.7 ('base')",
   "language": "python",
   "name": "python3"
  },
  "language_info": {
   "codemirror_mode": {
    "name": "ipython",
    "version": 3
   },
   "file_extension": ".py",
   "mimetype": "text/x-python",
   "name": "python",
   "nbconvert_exporter": "python",
   "pygments_lexer": "ipython3",
   "version": "3.9.7"
  },
  "orig_nbformat": 4,
  "vscode": {
   "interpreter": {
    "hash": "13c50b14f59458d884eaffc48d34c8b9f9bfb6337a92171dc8fa105a01018264"
   }
  }
 },
 "nbformat": 4,
 "nbformat_minor": 2
}
